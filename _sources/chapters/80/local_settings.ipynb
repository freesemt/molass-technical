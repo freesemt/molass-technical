{
 "cells": [
  {
   "cell_type": "markdown",
   "id": "69f99630",
   "metadata": {
    "language": "markdown"
   },
   "source": [
    "# Local Settings\n",
    "\n",
    "```{note}\n",
    "The data set for this tutorial is now available as the molass_data package.\n",
    "This section is left as an alternative way when you locate the data set elsewhere.\n",
    "```\n",
    "\n",
    "(download_data_for_this_tutorial)=\n",
    "## Download Data for this Tutorial\n",
    "\n",
    "To run and follow this tutorial, download data from the following links:\n",
    "\n",
    "* [tutorial_data.zip](../../data/tutorial_data.zip)\n",
    "* [simulated_data.zip](../../data/simulated_data.zip)  (in preparation, currently empty)\n",
    "\n",
    "You can use one or both of these. They are similar, but not the same. The former is from a real experiment on a few standard proteins, while the latter has been generated using simple, but not realistic, models.\n",
    "\n",
    "The data sets you have downloaded will be referenced in the tutorial. You should unzip them and specify the unzipped folder locations in a Python script named `local_settings.py`, placed in one of the parent folders relative to the notebook you are running. Copy and modify the code block below to fit your environment.\n",
    "\n",
    "```python\n",
    "LocalSettings = dict(\n",
    "    TUTORIAL_DATA=r\"D:\\MolassData\\tutorial_data\",   # unzipped data folder\n",
    "    SIMULATED_DATA=r\"D:\\MolassData\\simulated_data\", # unzipped data folder, optional\n",
    ")\n",
    "```\n",
    "\n",
    "Save the script to any parent folder, for example as shown below:\n",
    "\n",
    "```\n",
    "    any_upper_folder/\n",
    "        local_settings.py\n",
    "        ...\n",
    "        parent_folder/\n",
    "            ...\n",
    "            current_folder/\n",
    "                working-notebook.ipynb\n",
    "```\n",
    "\n",
    "The `get_local_settings()` function introduced in the next section will search for this script, walking upward several levels from the current folder until it finds the filename and imports the settings dictionary you have specified.\n",
    "\n",
    "You can check your local settings in the next section."
   ]
  },
  {
   "cell_type": "markdown",
   "id": "9baefc68",
   "metadata": {
    "language": "markdown"
   },
   "source": [
    "## Local Settings Check\n",
    "\n",
    "To check your local settings, download this book using the button at the upper right corner and run the following cell."
   ]
  },
  {
   "cell_type": "code",
   "execution_count": 1,
   "id": "8d62a771",
   "metadata": {
    "language": "python"
   },
   "outputs": [
    {
     "name": "stdout",
     "output_type": "stream",
     "text": [
      "[0] D:\\Github\\molass-tutorial\\chapters\\local_settings.py\n",
      "[1] D:\\Github\\molass-tutorial\\local_settings.py\n",
      "[2] D:\\Github\\local_settings.py\n",
      "D:\\MolassData\\tutorial_data\n",
      "D:\\MolassData\\simulated_data\n"
     ]
    }
   ],
   "source": [
    "from molass.Local import get_local_settings\n",
    "local_settings = get_local_settings(debug=True)\n",
    "TUTORIAL_DATA = local_settings['TUTORIAL_DATA']\n",
    "SIMULATED_DATA = local_settings['SIMULATED_DATA']\n",
    "print(TUTORIAL_DATA)\n",
    "print(SIMULATED_DATA)"
   ]
  },
  {
   "cell_type": "markdown",
   "id": "ff511517",
   "metadata": {
    "language": "markdown"
   },
   "source": [
    "```{note}\n",
    "For this check, you only need to run the single cell above. Other cells (markdown text) are not relevant.\n",
    "```\n",
    "\n",
    "If the folder locations are printed as expected, you are ready to continue."
   ]
  }
 ],
 "metadata": {
  "kernelspec": {
   "display_name": "Python 3 (ipykernel)",
   "language": "python",
   "name": "python3"
  },
  "language_info": {
   "codemirror_mode": {
    "name": "ipython",
    "version": 3
   },
   "file_extension": ".py",
   "mimetype": "text/x-python",
   "name": "python",
   "nbconvert_exporter": "python",
   "pygments_lexer": "ipython3",
   "version": "3.12.9"
  }
 },
 "nbformat": 4,
 "nbformat_minor": 5
}
