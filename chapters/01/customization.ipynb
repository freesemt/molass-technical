{
 "cells": [
  {
   "cell_type": "markdown",
   "id": "d58d3995",
   "metadata": {},
   "source": [
    "(customization)=\n",
    "# Customization\n",
    "\n",
    "Since there are no standard formats for SEC-SAXS data, users need to customize to adapt to their data formats. This chapter will explain briefly how to achieve it. Alternatively, you can join us by opening an issue to support your data formats at [the library's repository](https://github.com/nshimizu0721/molass-library).\n",
    "\n",
    "We suspect that there is a high chance that you may need to customize only for UV data because the formats for X-ray scattering profiles are better unified thanks to ATSAS suite's popularity while there is no such defacto standard for UV absorbance data."
   ]
  },
  {
   "cell_type": "markdown",
   "id": "a4edd739",
   "metadata": {},
   "source": [
    "## Assumption on Data Location\n",
    "\n",
    "We assume here that the data sets for UV and X-ray are located in a single folder so that they can be loaded by a unique folder path specification.\n",
    "\n",
    "```{note}\n",
    "In our original implementation, it is assumed that X-ray data set consists of many files with `.dat` file extension while the UV data set consists of only a single file with `.txt` file extension. In any case, the loder functions explained here should be implemeneted so that they can load the data by the folder path specification which implies the both data sets. The detailed data specification of our original case is documented in the chapter four of [MOLASS User's Guide](https://pfwww.kek.jp/saxs/software/MOLASS-UsersGuide-1_0_13.pdf).\n",
    "```"
   ]
  },
  {
   "cell_type": "markdown",
   "id": "a72edd16",
   "metadata": {},
   "source": [
    "## Test Data\n",
    "\n",
    "Use the data for this tutorial, which can be download data from the following links:\n",
    "\n",
    "* [tutorial_data.zip](../../data/tutorial_data.zip)\n",
    "\n",
    "In this data set, the X-ray data set consists of files \n",
    "Compare your data to this data set and follow the instructions below."
   ]
  },
  {
   "cell_type": "markdown",
   "id": "d17daa96",
   "metadata": {},
   "source": [
    "## Source Code\n",
    "\n",
    "Download or git clone the [the library's repository](https://github.com/nshimizu0721/molass-library).\n"
   ]
  },
  {
   "cell_type": "markdown",
   "id": "e25c9dc0",
   "metadata": {},
   "source": [
    "## UV Data Input\n",
    "\n",
    "Replace the following function in the `molass/DataUtils/UvLoader.py` Python file to adapt to your data. \n",
    "\n",
    "```python\n",
    "def load_uv(path):\n",
    "    \"\"\"\n",
    "    Load UV data from a directory.\n",
    "\n",
    "    Parameters\n",
    "    ----------\n",
    "    path : str\n",
    "        Path to the UV data directory.\n",
    "        \n",
    "    Returns\n",
    "    -------\n",
    "    uvM : np.ndarray\n",
    "        UV data matrix.\n",
    "        The first dimension corresponds to the wavelengths, and the second to the frames (elution points).\n",
    "    wvector : np.ndarray\n",
    "        Wavelength vector.\n",
    "    \"\"\"\n",
    "    assert os.path.isdir(path)\n",
    "    # Implement your data loading code\n",
    "    return uvM, wvector     \n",
    "```\n",
    "\n",
    "To test this function, you can use the test script in `tests/specific/900_Custom` folder as follows.\n",
    "\n",
    "```none\n",
    "cd tests/specific/900_Custom\n",
    "pytest test_010_Custom.py -s -k test_010_load_uv\n",
    "```\n",
    "\n",
    "```{note}\n",
    "Our original implementation of this function can load from either a file path or a folder path for backward compatibility. However, the implementation only for a single file is required in the currecnt use.\n",
    "``` "
   ]
  },
  {
   "cell_type": "markdown",
   "id": "6d19423e",
   "metadata": {},
   "source": [
    "## X-ray Data Input\n",
    "\n",
    "Replace the following function in the `molass/DataUtils/XrLoader.py` Python file to adapt to your data. \n",
    "\n",
    "```python\n",
    "def load_xr(folder_path):\n",
    "    \"\"\"\n",
    "    Load X-ray scattering data from a folder containing .dat files.\n",
    "    Parameters\n",
    "    ----------\n",
    "    folder_path : str\n",
    "        Path to the folder containing .dat files.\n",
    "    Returns\n",
    "    -------\n",
    "    xr_array : np.ndarray\n",
    "        3D array containing the X-ray scattering data.\n",
    "    Notes\n",
    "    -----\n",
    "    The function assumes that each .dat file contains data in a format compatible with np.loadtxt.\n",
    "    The first dimension corresponds to the number of files, the second to the number of points, and the third to the data columns.\n",
    "    \"\"\"\n",
    "    input_list = []\n",
    "    for path in sorted(glob(folder_path + \"/*.dat\")):\n",
    "        input_list.append(np.loadtxt(path))\n",
    "    xr_array = np.array(input_list)\n",
    "    return xr_array\n",
    "```\n",
    "\n",
    "To test this function, you can use the test script in tests/specific/900_Custom folder as follows.\n",
    "\n",
    "```bat\n",
    "cd tests/specific/900_Custom\n",
    "pytest test_010_Custom.py -s -k test_020_load_xr\n",
    "```"
   ]
  }
 ],
 "metadata": {
  "language_info": {
   "name": "python"
  }
 },
 "nbformat": 4,
 "nbformat_minor": 5
}
