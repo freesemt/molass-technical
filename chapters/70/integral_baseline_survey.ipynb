{
 "cells": [
  {
   "cell_type": "markdown",
   "id": "c38dd2fd",
   "metadata": {},
   "source": [
    "# Data Survey\n",
    "## Folder Walker"
   ]
  },
  {
   "cell_type": "code",
   "execution_count": 1,
   "id": "f887b9e3",
   "metadata": {},
   "outputs": [
    {
     "name": "stdout",
     "output_type": "stream",
     "text": [
      "[0] D:\\PyTools\\Data\\20160227\\backsub\n"
     ]
    },
    {
     "name": "stderr",
     "output_type": "stream",
     "text": [
      "zeros at the angular ends of error data have been replaced with the adjacent values.\n"
     ]
    },
    {
     "name": "stdout",
     "output_type": "stream",
     "text": [
      "[1] D:\\PyTools\\Data\\20160628\n",
      "[4] h_ratio= 0.02911284350190842\n"
     ]
    },
    {
     "name": "stderr",
     "output_type": "stream",
     "text": [
      "c:\\Program Files\\Python312\\Lib\\site-packages\\scipy\\stats\\_stats_py.py:10919: RuntimeWarning: invalid value encountered in scalar divide\n",
      "  slope = ssxym / ssxm\n",
      "c:\\Program Files\\Python312\\Lib\\site-packages\\scipy\\stats\\_stats_py.py:10933: RuntimeWarning: invalid value encountered in sqrt\n",
      "  t = r * np.sqrt(df / ((1.0 - r + TINY)*(1.0 + r + TINY)))\n",
      "c:\\Program Files\\Python312\\Lib\\site-packages\\scipy\\stats\\_stats_py.py:10936: RuntimeWarning: invalid value encountered in scalar divide\n",
      "  slope_stderr = np.sqrt((1 - r**2) * ssym / ssxm / df)\n"
     ]
    },
    {
     "name": "stdout",
     "output_type": "stream",
     "text": [
      "[2] D:\\PyTools\\Data\\20161006\\OA01\\Backsub\n"
     ]
    },
    {
     "name": "stderr",
     "output_type": "stream",
     "text": [
      "zeros at the angular ends of error data have been replaced with the adjacent values.\n"
     ]
    },
    {
     "name": "stdout",
     "output_type": "stream",
     "text": [
      "[5] h_ratio= 0.029232230413578555\n",
      "[3] D:\\PyTools\\Data\\20161104\\BL-10C\\Ald\n",
      "[4] D:\\PyTools\\Data\\20161104\\BL-10C\\OA\n",
      "[5] D:\\PyTools\\Data\\20161104\\BL-10C\\OA_Ald\n",
      "[6] D:\\PyTools\\Data\\20161104\\BL-6A\\AhRR\n"
     ]
    },
    {
     "name": "stderr",
     "output_type": "stream",
     "text": [
      "zeros at the angular ends of error data have been replaced with the adjacent values.\n"
     ]
    },
    {
     "name": "stdout",
     "output_type": "stream",
     "text": [
      "[7] D:\\PyTools\\Data\\20161104\\BL-6A\\HIF\n"
     ]
    },
    {
     "name": "stderr",
     "output_type": "stream",
     "text": [
      "zeros at the angular ends of error data have been replaced with the adjacent values.\n"
     ]
    },
    {
     "name": "stdout",
     "output_type": "stream",
     "text": [
      "[8] D:\\PyTools\\Data\\20161104\\BL-6A\\pH6\n"
     ]
    },
    {
     "name": "stderr",
     "output_type": "stream",
     "text": [
      "zeros at the angular ends of error data have been replaced with the adjacent values.\n"
     ]
    },
    {
     "name": "stdout",
     "output_type": "stream",
     "text": [
      "[9] D:\\PyTools\\Data\\20161104\\BL-6A\\pH7\n"
     ]
    },
    {
     "name": "stderr",
     "output_type": "stream",
     "text": [
      "zeros at the angular ends of error data have been replaced with the adjacent values.\n"
     ]
    },
    {
     "name": "stdout",
     "output_type": "stream",
     "text": [
      "[10] D:\\PyTools\\Data\\20161113\\SUB_TRN1\n",
      "[11] D:\\PyTools\\Data\\20161113\\SUB_TRN1DBB\n",
      "[12] D:\\PyTools\\Data\\20161113\\SUB_TRN1PY\n",
      "[13] D:\\PyTools\\Data\\20161113\\SUB_TRN1_2\n",
      "[14] D:\\PyTools\\Data\\20161119\\Kosugi3a_Backsub\n"
     ]
    },
    {
     "name": "stderr",
     "output_type": "stream",
     "text": [
      "zeros at the angular ends of error data have been replaced with the adjacent values.\n",
      "Failed to estimate mapping for matching peaks.  File \"d:\\Github\\molass-technical\\chapters\\70\\../../../molass-library\\molass\\Mapping\\SimpleMapper.py\", line 141, in estimate_mapping_impl\n",
      "    return estimate_mapping_for_matching_peaks(xr_curve, xr_peaks, uv_curve, uv_peaks, debug=debug)\n",
      "           ^^^^^^^^^^^^^^^^^^^^^^^^^^^^^^^^^^^^^^^^^^^^^^^^^^^^^^^^^^^^^^^^^^^^^^^^^^^^^^^^^^^^^^^^\n",
      "  File \"d:\\Github\\molass-technical\\chapters\\70\\../../../molass-library\\molass\\Mapping\\SimpleMapper.py\", line 103, in estimate_mapping_for_matching_peaks\n",
      "    return estimate_mapping_for_matching_peaks(xr_curve_, xr_peaks, uv_curve_, uv_peaks, retry=False, debug=debug)\n",
      "           ^^^^^^^^^^^^^^^^^^^^^^^^^^^^^^^^^^^^^^^^^^^^^^^^^^^^^^^^^^^^^^^^^^^^^^^^^^^^^^^^^^^^^^^^^^^^^^^^^^^^^^^\n",
      "  File \"d:\\Github\\molass-technical\\chapters\\70\\../../../molass-library\\molass\\Mapping\\SimpleMapper.py\", line 100, in estimate_mapping_for_matching_peaks\n",
      "    assert retry, \"Mapping coverage is not acceptable after retry.\"\n",
      "           ^^^^^\n",
      "AssertionError: Mapping coverage is not acceptable after retry.\n",
      "\n"
     ]
    },
    {
     "name": "stdout",
     "output_type": "stream",
     "text": [
      "[15] D:\\PyTools\\Data\\20161119\\Kosugi8_Backsub\n"
     ]
    },
    {
     "name": "stderr",
     "output_type": "stream",
     "text": [
      "zeros at the angular ends of error data have been replaced with the adjacent values.\n"
     ]
    },
    {
     "name": "stdout",
     "output_type": "stream",
     "text": [
      "[16] D:\\PyTools\\Data\\20161124\\Backsub1\n",
      "[17] D:\\PyTools\\Data\\20161202\n",
      "[18] D:\\PyTools\\Data\\20161205\n"
     ]
    },
    {
     "name": "stderr",
     "output_type": "stream",
     "text": [
      "zeros at the angular ends of error data have been replaced with the adjacent values.\n"
     ]
    },
    {
     "name": "stdout",
     "output_type": "stream",
     "text": [
      "[19] D:\\PyTools\\Data\\20161216\\Backsub\n",
      "[20] D:\\PyTools\\Data\\20161216\\Backsub_101_120\n",
      "[21] D:\\PyTools\\Data\\20161217\n"
     ]
    },
    {
     "name": "stderr",
     "output_type": "stream",
     "text": [
      "zeros at the angular ends of error data have been replaced with the adjacent values.\n",
      "d:\\Github\\molass-technical\\chapters\\70\\../../../molass-legacy\\molass_legacy\\Trimming\\FlangeLimit.py:71: RuntimeWarning: divide by zero encountered in log10\n",
      "  log_ye = np.log10(np.average(error_, axis=1))\n"
     ]
    },
    {
     "name": "stdout",
     "output_type": "stream",
     "text": [
      "[22] D:\\PyTools\\Data\\20170209\\OAGIwyatt_01\n"
     ]
    },
    {
     "name": "stderr",
     "output_type": "stream",
     "text": [
      "zeros at the angular ends of error data have been replaced with the adjacent values.\n"
     ]
    },
    {
     "name": "stdout",
     "output_type": "stream",
     "text": [
      "[23] D:\\PyTools\\Data\\20170209\\OAGIwyatt_02\n"
     ]
    },
    {
     "name": "stderr",
     "output_type": "stream",
     "text": [
      "zeros at the angular ends of error data have been replaced with the adjacent values.\n"
     ]
    },
    {
     "name": "stdout",
     "output_type": "stream",
     "text": [
      "[24] D:\\PyTools\\Data\\20170209\\OA_Ald_Fer\n"
     ]
    },
    {
     "name": "stderr",
     "output_type": "stream",
     "text": [
      "zeros at the angular ends of error data have been replaced with the adjacent values.\n"
     ]
    },
    {
     "name": "stdout",
     "output_type": "stream",
     "text": [
      "[25] D:\\PyTools\\Data\\20170226\\Sugiyama\n"
     ]
    },
    {
     "name": "stderr",
     "output_type": "stream",
     "text": [
      "bubbles have been removed at [287 288 289 290]\n",
      "zeros at the angular ends of error data have been replaced with the adjacent values.\n"
     ]
    },
    {
     "name": "stdout",
     "output_type": "stream",
     "text": [
      "exclude_bubble_impl:  287 290\n"
     ]
    },
    {
     "name": "stderr",
     "output_type": "stream",
     "text": [
      "d:\\Github\\molass-technical\\chapters\\70\\../../../molass-legacy\\molass_legacy\\Trimming\\FlangeLimit.py:71: RuntimeWarning: divide by zero encountered in log10\n",
      "  log_ye = np.log10(np.average(error_, axis=1))\n",
      "c:\\Program Files\\Python312\\Lib\\site-packages\\numpy\\lib\\function_base.py:1238: RuntimeWarning: invalid value encountered in subtract\n",
      "  out[tuple(slice1)] = (f[tuple(slice4)] - f[tuple(slice2)]) / (2. * ax_dx)\n",
      "c:\\Program Files\\Python312\\Lib\\site-packages\\numpy\\lib\\function_base.py:1266: RuntimeWarning: invalid value encountered in scalar subtract\n",
      "  out[tuple(slice1)] = (f[tuple(slice2)] - f[tuple(slice3)]) / dx_n\n"
     ]
    },
    {
     "name": "stdout",
     "output_type": "stream",
     "text": [
      "[26] D:\\PyTools\\Data\\20170301\\Backsub\n"
     ]
    },
    {
     "name": "stderr",
     "output_type": "stream",
     "text": [
      "zeros at the angular ends of error data have been replaced with the adjacent values.\n",
      "d:\\Github\\molass-technical\\chapters\\70\\../../../molass-legacy\\molass_legacy\\Trimming\\FlangeLimit.py:71: RuntimeWarning: divide by zero encountered in log10\n",
      "  log_ye = np.log10(np.average(error_, axis=1))\n",
      "c:\\Program Files\\Python312\\Lib\\site-packages\\numpy\\lib\\function_base.py:1238: RuntimeWarning: invalid value encountered in subtract\n",
      "  out[tuple(slice1)] = (f[tuple(slice4)] - f[tuple(slice2)]) / (2. * ax_dx)\n",
      "c:\\Program Files\\Python312\\Lib\\site-packages\\numpy\\lib\\function_base.py:1266: RuntimeWarning: invalid value encountered in scalar subtract\n",
      "  out[tuple(slice1)] = (f[tuple(slice2)] - f[tuple(slice3)]) / dx_n\n"
     ]
    },
    {
     "name": "stdout",
     "output_type": "stream",
     "text": [
      "[27] D:\\PyTools\\Data\\20170304\\Backsub_166_195\n"
     ]
    },
    {
     "name": "stderr",
     "output_type": "stream",
     "text": [
      "zeros at the angular ends of error data have been replaced with the adjacent values.\n",
      "d:\\Github\\molass-technical\\chapters\\70\\../../../molass-legacy\\molass_legacy\\Trimming\\FlangeLimit.py:71: RuntimeWarning: divide by zero encountered in log10\n",
      "  log_ye = np.log10(np.average(error_, axis=1))\n",
      "c:\\Program Files\\Python312\\Lib\\site-packages\\numpy\\lib\\function_base.py:1238: RuntimeWarning: invalid value encountered in subtract\n",
      "  out[tuple(slice1)] = (f[tuple(slice4)] - f[tuple(slice2)]) / (2. * ax_dx)\n",
      "c:\\Program Files\\Python312\\Lib\\site-packages\\numpy\\lib\\function_base.py:1266: RuntimeWarning: invalid value encountered in scalar subtract\n",
      "  out[tuple(slice1)] = (f[tuple(slice2)] - f[tuple(slice3)]) / dx_n\n",
      "Failed to estimate mapping for matching peaks.  File \"d:\\Github\\molass-technical\\chapters\\70\\../../../molass-library\\molass\\Mapping\\SimpleMapper.py\", line 141, in estimate_mapping_impl\n",
      "    return estimate_mapping_for_matching_peaks(xr_curve, xr_peaks, uv_curve, uv_peaks, debug=debug)\n",
      "           ^^^^^^^^^^^^^^^^^^^^^^^^^^^^^^^^^^^^^^^^^^^^^^^^^^^^^^^^^^^^^^^^^^^^^^^^^^^^^^^^^^^^^^^^\n",
      "  File \"d:\\Github\\molass-technical\\chapters\\70\\../../../molass-library\\molass\\Mapping\\SimpleMapper.py\", line 103, in estimate_mapping_for_matching_peaks\n",
      "    return estimate_mapping_for_matching_peaks(xr_curve_, xr_peaks, uv_curve_, uv_peaks, retry=False, debug=debug)\n",
      "           ^^^^^^^^^^^^^^^^^^^^^^^^^^^^^^^^^^^^^^^^^^^^^^^^^^^^^^^^^^^^^^^^^^^^^^^^^^^^^^^^^^^^^^^^^^^^^^^^^^^^^^^\n",
      "  File \"d:\\Github\\molass-technical\\chapters\\70\\../../../molass-library\\molass\\Mapping\\SimpleMapper.py\", line 100, in estimate_mapping_for_matching_peaks\n",
      "    assert retry, \"Mapping coverage is not acceptable after retry.\"\n",
      "           ^^^^^\n",
      "AssertionError: Mapping coverage is not acceptable after retry.\n",
      "\n"
     ]
    },
    {
     "name": "stdout",
     "output_type": "stream",
     "text": [
      "[28] D:\\PyTools\\Data\\20170307\\Backsub\n",
      "[29] D:\\PyTools\\Data\\20170309\\Backsub\n"
     ]
    },
    {
     "name": "stderr",
     "output_type": "stream",
     "text": [
      "zeros at the angular ends of error data have been replaced with the adjacent values.\n"
     ]
    },
    {
     "name": "stdout",
     "output_type": "stream",
     "text": [
      "[30] D:\\PyTools\\Data\\20170426\n"
     ]
    },
    {
     "name": "stderr",
     "output_type": "stream",
     "text": [
      "zeros at the angular ends of error data have been replaced with the adjacent values.\n"
     ]
    },
    {
     "name": "stdout",
     "output_type": "stream",
     "text": [
      "[31] D:\\PyTools\\Data\\20170506\\ACTM002\\Backsub\n",
      "[32] D:\\PyTools\\Data\\20170506\\ACTM002\\Backsub2\n",
      "[33] D:\\PyTools\\Data\\20170511\n"
     ]
    },
    {
     "name": "stderr",
     "output_type": "stream",
     "text": [
      "zeros at the angular ends of error data have been replaced with the adjacent values.\n"
     ]
    },
    {
     "name": "stdout",
     "output_type": "stream",
     "text": [
      "[34] D:\\PyTools\\Data\\20170512\\Backsub\n",
      "[35] D:\\PyTools\\Data\\20171112\\Backsub_272_281_monoM\n",
      "[36] D:\\PyTools\\Data\\20171112\\Backsub_ComMR\n",
      "[37] D:\\PyTools\\Data\\20171112\\Backsub_monoE\n",
      "[38] D:\\PyTools\\Data\\20171118\\Factin\n",
      "[39] D:\\PyTools\\Data\\20171118\\Gactin\n",
      "[40] D:\\PyTools\\Data\\20171203\n"
     ]
    },
    {
     "name": "stderr",
     "output_type": "stream",
     "text": [
      "zeros at the angular ends of error data have been replaced with the adjacent values.\n"
     ]
    },
    {
     "name": "stdout",
     "output_type": "stream",
     "text": [
      "[41] D:\\PyTools\\Data\\20171226\\Backsub\n"
     ]
    },
    {
     "name": "stderr",
     "output_type": "stream",
     "text": [
      "bubbles have been removed at [ 7  8  9 10]\n",
      "zeros at the angular ends of error data have been replaced with the adjacent values.\n"
     ]
    },
    {
     "name": "stdout",
     "output_type": "stream",
     "text": [
      "exclude_bubble_impl:  7 10\n"
     ]
    },
    {
     "name": "stderr",
     "output_type": "stream",
     "text": [
      "d:\\Github\\molass-technical\\chapters\\70\\../../../molass-legacy\\molass_legacy\\Trimming\\FlangeLimit.py:71: RuntimeWarning: divide by zero encountered in log10\n",
      "  log_ye = np.log10(np.average(error_, axis=1))\n",
      "c:\\Program Files\\Python312\\Lib\\site-packages\\numpy\\lib\\function_base.py:1238: RuntimeWarning: invalid value encountered in subtract\n",
      "  out[tuple(slice1)] = (f[tuple(slice4)] - f[tuple(slice2)]) / (2. * ax_dx)\n",
      "c:\\Program Files\\Python312\\Lib\\site-packages\\numpy\\lib\\function_base.py:1266: RuntimeWarning: invalid value encountered in scalar subtract\n",
      "  out[tuple(slice1)] = (f[tuple(slice2)] - f[tuple(slice3)]) / dx_n\n"
     ]
    },
    {
     "name": "stdout",
     "output_type": "stream",
     "text": [
      "[42] D:\\PyTools\\Data\\20180204\\Close01\n"
     ]
    },
    {
     "name": "stderr",
     "output_type": "stream",
     "text": [
      "zeros at the angular ends of error data have been replaced with the adjacent values.\n"
     ]
    },
    {
     "name": "stdout",
     "output_type": "stream",
     "text": [
      "[43] D:\\PyTools\\Data\\20180204\\Open01\n"
     ]
    },
    {
     "name": "stderr",
     "output_type": "stream",
     "text": [
      "zeros at the angular ends of error data have been replaced with the adjacent values.\n"
     ]
    },
    {
     "name": "stdout",
     "output_type": "stream",
     "text": [
      "[44] D:\\PyTools\\Data\\20180204\\TSsome2\n"
     ]
    },
    {
     "name": "stderr",
     "output_type": "stream",
     "text": [
      "zeros at the angular ends of error data have been replaced with the adjacent values.\n"
     ]
    },
    {
     "name": "stdout",
     "output_type": "stream",
     "text": [
      "[45] D:\\PyTools\\Data\\20180206\n",
      "[46] D:\\PyTools\\Data\\20180206_TG\n",
      "[47] D:\\PyTools\\Data\\20180219\n",
      "[48] D:\\PyTools\\Data\\20180225\n",
      "[49] D:\\PyTools\\Data\\20180316\\Backsub\n",
      "[50] D:\\PyTools\\Data\\20180329_microfluidic\n",
      "No UV data found in D:\\PyTools\\Data\\20180329_microfluidic, skipping.\n",
      "[51] D:\\PyTools\\Data\\20180526\\GI\n",
      "[52] D:\\PyTools\\Data\\20180526\\OA\n",
      "[53] D:\\PyTools\\Data\\20180526\\OAGI\n",
      "[54] D:\\PyTools\\Data\\20180602\n",
      "[55] D:\\PyTools\\Data\\20180605\\Backsub3\n",
      "[56] D:\\PyTools\\Data\\20180617\n"
     ]
    },
    {
     "name": "stderr",
     "output_type": "stream",
     "text": [
      "zeros at the angular ends of error data have been replaced with the adjacent values.\n"
     ]
    },
    {
     "name": "stdout",
     "output_type": "stream",
     "text": [
      "[57] D:\\PyTools\\Data\\20181117_microfluidic_reduced\n",
      "No UV data found in D:\\PyTools\\Data\\20181117_microfluidic_reduced, skipping.\n",
      "[58] D:\\PyTools\\Data\\20181127\n"
     ]
    },
    {
     "name": "stderr",
     "output_type": "stream",
     "text": [
      "zeros at the angular ends of error data have been replaced with the adjacent values.\n"
     ]
    },
    {
     "name": "stdout",
     "output_type": "stream",
     "text": [
      "[59] D:\\PyTools\\Data\\20181203\n",
      "[60] D:\\PyTools\\Data\\20181203_no_UV\n",
      "No UV data found in D:\\PyTools\\Data\\20181203_no_UV, skipping.\n",
      "[61] D:\\PyTools\\Data\\20181204\n",
      "[62] D:\\PyTools\\Data\\20181212\\data\n",
      "[63] D:\\PyTools\\Data\\20181214\\Backsub\n",
      "No UV data found in D:\\PyTools\\Data\\20181214\\Backsub, skipping.\n",
      "[64] D:\\PyTools\\Data\\20190221\n",
      "[65] D:\\PyTools\\Data\\20190221_1_ver2\n",
      "[66] D:\\PyTools\\Data\\20190221_2\n",
      "[67] D:\\PyTools\\Data\\20190227\n"
     ]
    },
    {
     "name": "stderr",
     "output_type": "stream",
     "text": [
      "zeros at the angular ends of error data have been replaced with the adjacent values.\n"
     ]
    },
    {
     "name": "stdout",
     "output_type": "stream",
     "text": [
      "[68] D:\\PyTools\\Data\\20190227_2\n"
     ]
    },
    {
     "name": "stderr",
     "output_type": "stream",
     "text": [
      "zeros at the angular ends of error data have been replaced with the adjacent values.\n"
     ]
    },
    {
     "name": "stdout",
     "output_type": "stream",
     "text": [
      "[69] D:\\PyTools\\Data\\20190302\n",
      "[70] D:\\PyTools\\Data\\20190305_1\n",
      "[71] D:\\PyTools\\Data\\20190305_2\n",
      "[72] D:\\PyTools\\Data\\20190309_1\n",
      "[73] D:\\PyTools\\Data\\20190309_2\n",
      "[74] D:\\PyTools\\Data\\20190309_3\n",
      "[75] D:\\PyTools\\Data\\20190309_4\n",
      "[76] D:\\PyTools\\Data\\20190309_5\n",
      "[77] D:\\PyTools\\Data\\20190309_6\n",
      "[78] D:\\PyTools\\Data\\20190309_7\n",
      "[79] D:\\PyTools\\Data\\20190315_1\n",
      "[80] D:\\PyTools\\Data\\20190315_2\n",
      "[81] D:\\PyTools\\Data\\20190315_3\n",
      "[82] D:\\PyTools\\Data\\20190317\n"
     ]
    },
    {
     "name": "stderr",
     "output_type": "stream",
     "text": [
      "c:\\Program Files\\Python312\\Lib\\site-packages\\numpy\\lib\\function_base.py:520: RuntimeWarning: Mean of empty slice.\n",
      "  avg = a.mean(axis, **keepdims_kw)\n",
      "c:\\Program Files\\Python312\\Lib\\site-packages\\numpy\\core\\_methods.py:129: RuntimeWarning: invalid value encountered in scalar divide\n",
      "  ret = ret.dtype.type(ret / rcount)\n"
     ]
    },
    {
     "name": "stdout",
     "output_type": "stream",
     "text": [
      "[83] D:\\PyTools\\Data\\20190319\\Backsub1\n"
     ]
    },
    {
     "name": "stderr",
     "output_type": "stream",
     "text": [
      "zeros at the angular ends of error data have been replaced with the adjacent values.\n"
     ]
    },
    {
     "name": "stdout",
     "output_type": "stream",
     "text": [
      "[84] D:\\PyTools\\Data\\20190423\\Sub\n"
     ]
    },
    {
     "name": "stderr",
     "output_type": "stream",
     "text": [
      "zeros at the angular ends of error data have been replaced with the adjacent values.\n"
     ]
    },
    {
     "name": "stdout",
     "output_type": "stream",
     "text": [
      "[85] D:\\PyTools\\Data\\20190514\n",
      "[86] D:\\PyTools\\Data\\20190519\n",
      "[87] D:\\PyTools\\Data\\20190524_1\n",
      "[88] D:\\PyTools\\Data\\20190524_2\n",
      "[89] D:\\PyTools\\Data\\20190527\n",
      "[90] D:\\PyTools\\Data\\20190529_1\n",
      "[91] D:\\PyTools\\Data\\20190529_2\n",
      "[92] D:\\PyTools\\Data\\20190529_3\n",
      "[93] D:\\PyTools\\Data\\20190529_4\n",
      "[94] D:\\PyTools\\Data\\20190529_5\n",
      "[95] D:\\PyTools\\Data\\20190529_6\n",
      "[96] D:\\PyTools\\Data\\20190607_1\n",
      "[97] D:\\PyTools\\Data\\20190626\n"
     ]
    },
    {
     "name": "stderr",
     "output_type": "stream",
     "text": [
      "zeros at the angular ends of error data have been replaced with the adjacent values.\n",
      "c:\\Program Files\\Python312\\Lib\\site-packages\\numpy\\lib\\function_base.py:520: RuntimeWarning: Mean of empty slice.\n",
      "  avg = a.mean(axis, **keepdims_kw)\n",
      "c:\\Program Files\\Python312\\Lib\\site-packages\\numpy\\core\\_methods.py:129: RuntimeWarning: invalid value encountered in scalar divide\n",
      "  ret = ret.dtype.type(ret / rcount)\n"
     ]
    },
    {
     "name": "stdout",
     "output_type": "stream",
     "text": [
      "[98] D:\\PyTools\\Data\\20190630_1\n"
     ]
    },
    {
     "name": "stderr",
     "output_type": "stream",
     "text": [
      "zeros at the angular ends of error data have been replaced with the adjacent values.\n"
     ]
    },
    {
     "name": "stdout",
     "output_type": "stream",
     "text": [
      "[99] D:\\PyTools\\Data\\20190630_2\n"
     ]
    },
    {
     "name": "stderr",
     "output_type": "stream",
     "text": [
      "zeros at the angular ends of error data have been replaced with the adjacent values.\n",
      "c:\\Program Files\\Python312\\Lib\\site-packages\\numpy\\lib\\function_base.py:520: RuntimeWarning: Mean of empty slice.\n",
      "  avg = a.mean(axis, **keepdims_kw)\n",
      "c:\\Program Files\\Python312\\Lib\\site-packages\\numpy\\core\\_methods.py:129: RuntimeWarning: invalid value encountered in scalar divide\n",
      "  ret = ret.dtype.type(ret / rcount)\n"
     ]
    },
    {
     "name": "stdout",
     "output_type": "stream",
     "text": [
      "[100] D:\\PyTools\\Data\\20190630_3\n"
     ]
    },
    {
     "name": "stderr",
     "output_type": "stream",
     "text": [
      "zeros at the angular ends of error data have been replaced with the adjacent values.\n"
     ]
    },
    {
     "name": "stdout",
     "output_type": "stream",
     "text": [
      "[101] D:\\PyTools\\Data\\20191003_OA\n",
      "[102] D:\\PyTools\\Data\\20191004_OA_Ald_Ferr\n",
      "[103] D:\\PyTools\\Data\\20191006_proteins5\n",
      "[104] D:\\PyTools\\Data\\20191031\n",
      "No UV data found in D:\\PyTools\\Data\\20191031, skipping.\n",
      "[105] D:\\PyTools\\Data\\20191109\n",
      "[106] D:\\PyTools\\Data\\20191114_1\n",
      "[107] D:\\PyTools\\Data\\20191114_2\n",
      "[108] D:\\PyTools\\Data\\20191114_3\n",
      "[109] D:\\PyTools\\Data\\20191114_4\n",
      "[110] D:\\PyTools\\Data\\20191118_1\n",
      "[111] D:\\PyTools\\Data\\20191118_2\n",
      "[112] D:\\PyTools\\Data\\20191118_3\n",
      "[113] D:\\PyTools\\Data\\20191118_4\n",
      "[114] D:\\PyTools\\Data\\20191122_1\n",
      "[115] D:\\PyTools\\Data\\20191122_2\n",
      "[116] D:\\PyTools\\Data\\20191125\n",
      "[117] D:\\PyTools\\Data\\20191201_1\n",
      "[118] D:\\PyTools\\Data\\20191201_2\n",
      "[119] D:\\PyTools\\Data\\20191201_3\n",
      "[120] D:\\PyTools\\Data\\20191201_4\n",
      "[121] D:\\PyTools\\Data\\20191207\n",
      "[122] D:\\PyTools\\Data\\20200121_1\n",
      "[123] D:\\PyTools\\Data\\20200121_2\n",
      "[124] D:\\PyTools\\Data\\20200121_3\n",
      "[125] D:\\PyTools\\Data\\20200123_1\n",
      "[126] D:\\PyTools\\Data\\20200123_2\n",
      "[127] D:\\PyTools\\Data\\20200123_3\n",
      "[128] D:\\PyTools\\Data\\20200123_4\n",
      "[129] D:\\PyTools\\Data\\20200124_1\n",
      "[130] D:\\PyTools\\Data\\20200124_2\n",
      "[131] D:\\PyTools\\Data\\20200125_1\n",
      "[132] D:\\PyTools\\Data\\20200125_2\n",
      "[133] D:\\PyTools\\Data\\20200211\n",
      "[134] D:\\PyTools\\Data\\20200214_1\n"
     ]
    },
    {
     "name": "stderr",
     "output_type": "stream",
     "text": [
      "zeros at the angular ends of error data have been replaced with the adjacent values.\n"
     ]
    },
    {
     "name": "stdout",
     "output_type": "stream",
     "text": [
      "[135] D:\\PyTools\\Data\\20200214_2\n"
     ]
    },
    {
     "name": "stderr",
     "output_type": "stream",
     "text": [
      "zeros at the angular ends of error data have been replaced with the adjacent values.\n"
     ]
    },
    {
     "name": "stdout",
     "output_type": "stream",
     "text": [
      "[136] D:\\PyTools\\Data\\20200214_3\n"
     ]
    },
    {
     "name": "stderr",
     "output_type": "stream",
     "text": [
      "zeros at the angular ends of error data have been replaced with the adjacent values.\n"
     ]
    },
    {
     "name": "stdout",
     "output_type": "stream",
     "text": [
      "[137] D:\\PyTools\\Data\\20200218\n",
      "[138] D:\\PyTools\\Data\\20200226\n",
      "[139] D:\\PyTools\\Data\\20200304_1\n",
      "[140] D:\\PyTools\\Data\\20200304_2\n",
      "[141] D:\\PyTools\\Data\\20200618_1\n",
      "[142] D:\\PyTools\\Data\\20200618_2\n",
      "[143] D:\\PyTools\\Data\\20200623_1\n",
      "[144] D:\\PyTools\\Data\\20200623_2\n",
      "[145] D:\\PyTools\\Data\\20200624_1\n",
      "[146] D:\\PyTools\\Data\\20200624_2\n",
      "[147] D:\\PyTools\\Data\\20200624_3\n",
      "[148] D:\\PyTools\\Data\\20200624_4\n",
      "[149] D:\\PyTools\\Data\\20200630_1\n",
      "[150] D:\\PyTools\\Data\\20200630_10\n",
      "[151] D:\\PyTools\\Data\\20200630_11\n",
      "[152] D:\\PyTools\\Data\\20200630_12\n",
      "[153] D:\\PyTools\\Data\\20200630_13\n",
      "[154] D:\\PyTools\\Data\\20200630_14\n",
      "[155] D:\\PyTools\\Data\\20200630_2\n",
      "[156] D:\\PyTools\\Data\\20200630_3\n",
      "[157] D:\\PyTools\\Data\\20200630_4\n",
      "[158] D:\\PyTools\\Data\\20200630_5\n",
      "Try find_peaks with fewer parameters.\n",
      "Try find_peaks with fewer parameters.\n",
      "[159] D:\\PyTools\\Data\\20200630_6\n",
      "Try find_peaks with fewer parameters.\n",
      "[10] h_ratio= 0.025637481212000806\n",
      "Try find_peaks with fewer parameters.\n",
      "Try find_peaks with fewer parameters.\n",
      "Try find_peaks with fewer parameters.\n"
     ]
    },
    {
     "name": "stderr",
     "output_type": "stream",
     "text": [
      "c:\\Program Files\\Python312\\Lib\\site-packages\\scipy\\stats\\_stats_py.py:10919: RuntimeWarning: invalid value encountered in scalar divide\n",
      "  slope = ssxym / ssxm\n",
      "c:\\Program Files\\Python312\\Lib\\site-packages\\scipy\\stats\\_stats_py.py:10933: RuntimeWarning: invalid value encountered in sqrt\n",
      "  t = r * np.sqrt(df / ((1.0 - r + TINY)*(1.0 + r + TINY)))\n",
      "c:\\Program Files\\Python312\\Lib\\site-packages\\scipy\\stats\\_stats_py.py:10936: RuntimeWarning: invalid value encountered in scalar divide\n",
      "  slope_stderr = np.sqrt((1 - r**2) * ssym / ssxm / df)\n"
     ]
    },
    {
     "name": "stdout",
     "output_type": "stream",
     "text": [
      "[160] D:\\PyTools\\Data\\20200630_7\n",
      "[161] D:\\PyTools\\Data\\20200630_8\n"
     ]
    },
    {
     "name": "stderr",
     "output_type": "stream",
     "text": [
      "c:\\Program Files\\Python312\\Lib\\site-packages\\scipy\\stats\\_stats_py.py:10919: RuntimeWarning: invalid value encountered in scalar divide\n",
      "  slope = ssxym / ssxm\n",
      "c:\\Program Files\\Python312\\Lib\\site-packages\\scipy\\stats\\_stats_py.py:10933: RuntimeWarning: invalid value encountered in sqrt\n",
      "  t = r * np.sqrt(df / ((1.0 - r + TINY)*(1.0 + r + TINY)))\n",
      "c:\\Program Files\\Python312\\Lib\\site-packages\\scipy\\stats\\_stats_py.py:10936: RuntimeWarning: invalid value encountered in scalar divide\n",
      "  slope_stderr = np.sqrt((1 - r**2) * ssym / ssxm / df)\n"
     ]
    },
    {
     "name": "stdout",
     "output_type": "stream",
     "text": [
      "[162] D:\\PyTools\\Data\\20200630_9\n",
      "[163] D:\\PyTools\\Data\\20201005_1\n",
      "[164] D:\\PyTools\\Data\\20201005_2\n",
      "[165] D:\\PyTools\\Data\\20201005_3\n",
      "[166] D:\\PyTools\\Data\\20201005_4\n",
      "[167] D:\\PyTools\\Data\\20201006_1\n"
     ]
    },
    {
     "name": "stderr",
     "output_type": "stream",
     "text": [
      "c:\\Program Files\\Python312\\Lib\\site-packages\\scipy\\stats\\_stats_py.py:10919: RuntimeWarning: invalid value encountered in scalar divide\n",
      "  slope = ssxym / ssxm\n",
      "c:\\Program Files\\Python312\\Lib\\site-packages\\scipy\\stats\\_stats_py.py:10933: RuntimeWarning: invalid value encountered in sqrt\n",
      "  t = r * np.sqrt(df / ((1.0 - r + TINY)*(1.0 + r + TINY)))\n",
      "c:\\Program Files\\Python312\\Lib\\site-packages\\scipy\\stats\\_stats_py.py:10936: RuntimeWarning: invalid value encountered in scalar divide\n",
      "  slope_stderr = np.sqrt((1 - r**2) * ssym / ssxm / df)\n"
     ]
    },
    {
     "name": "stdout",
     "output_type": "stream",
     "text": [
      "[168] D:\\PyTools\\Data\\20201006_2\n",
      "[169] D:\\PyTools\\Data\\20201007_1\n",
      "[170] D:\\PyTools\\Data\\20201007_2\n",
      "[171] D:\\PyTools\\Data\\20201007_3\n",
      "[172] D:\\PyTools\\Data\\20201007_4\n",
      "[173] D:\\PyTools\\Data\\20201009_1\n",
      "[174] D:\\PyTools\\Data\\20201009_2\n",
      "Warning: The number of selected peaks does not match between XR and UV curves.\n"
     ]
    },
    {
     "name": "stderr",
     "output_type": "stream",
     "text": [
      "c:\\Program Files\\Python312\\Lib\\site-packages\\scipy\\stats\\_stats_py.py:10919: RuntimeWarning: invalid value encountered in scalar divide\n",
      "  slope = ssxym / ssxm\n",
      "c:\\Program Files\\Python312\\Lib\\site-packages\\scipy\\stats\\_stats_py.py:10933: RuntimeWarning: invalid value encountered in sqrt\n",
      "  t = r * np.sqrt(df / ((1.0 - r + TINY)*(1.0 + r + TINY)))\n",
      "c:\\Program Files\\Python312\\Lib\\site-packages\\scipy\\stats\\_stats_py.py:10936: RuntimeWarning: invalid value encountered in scalar divide\n",
      "  slope_stderr = np.sqrt((1 - r**2) * ssym / ssxm / df)\n"
     ]
    },
    {
     "name": "stdout",
     "output_type": "stream",
     "text": [
      "[175] D:\\PyTools\\Data\\20201030\n",
      "[176] D:\\PyTools\\Data\\20201117\n",
      "[177] D:\\PyTools\\Data\\20201122\n",
      "[178] D:\\PyTools\\Data\\20201127_1\n",
      "[179] D:\\PyTools\\Data\\20201127_2\n",
      "[180] D:\\PyTools\\Data\\20201127_3\n"
     ]
    },
    {
     "name": "stderr",
     "output_type": "stream",
     "text": [
      "c:\\Program Files\\Python312\\Lib\\site-packages\\numpy\\lib\\function_base.py:520: RuntimeWarning: Mean of empty slice.\n",
      "  avg = a.mean(axis, **keepdims_kw)\n",
      "c:\\Program Files\\Python312\\Lib\\site-packages\\numpy\\core\\_methods.py:129: RuntimeWarning: invalid value encountered in scalar divide\n",
      "  ret = ret.dtype.type(ret / rcount)\n"
     ]
    },
    {
     "name": "stdout",
     "output_type": "stream",
     "text": [
      "[181] D:\\PyTools\\Data\\20201127_4\n",
      "[182] D:\\PyTools\\Data\\20201127_5\n",
      "[183] D:\\PyTools\\Data\\20201208_1\n",
      "[184] D:\\PyTools\\Data\\20201208_2\n",
      "[185] D:\\PyTools\\Data\\20201208_3\n"
     ]
    },
    {
     "name": "stderr",
     "output_type": "stream",
     "text": [
      "c:\\Program Files\\Python312\\Lib\\site-packages\\numpy\\core\\_methods.py:206: RuntimeWarning: Degrees of freedom <= 0 for slice\n",
      "  ret = _var(a, axis=axis, dtype=dtype, out=out, ddof=ddof,\n",
      "c:\\Program Files\\Python312\\Lib\\site-packages\\numpy\\core\\_methods.py:163: RuntimeWarning: invalid value encountered in divide\n",
      "  arrmean = um.true_divide(arrmean, div, out=arrmean,\n",
      "c:\\Program Files\\Python312\\Lib\\site-packages\\numpy\\core\\_methods.py:198: RuntimeWarning: invalid value encountered in scalar divide\n",
      "  ret = ret.dtype.type(ret / rcount)\n"
     ]
    },
    {
     "name": "stdout",
     "output_type": "stream",
     "text": [
      "[186] D:\\PyTools\\Data\\20201208_4\n",
      "[187] D:\\PyTools\\Data\\20201211\n",
      "[188] D:\\PyTools\\Data\\20210219\n",
      "[189] D:\\PyTools\\Data\\20210323_1\n"
     ]
    },
    {
     "name": "stderr",
     "output_type": "stream",
     "text": [
      "zeros at the angular ends of error data have been replaced with the adjacent values.\n"
     ]
    },
    {
     "name": "stdout",
     "output_type": "stream",
     "text": [
      "[190] D:\\PyTools\\Data\\20210323_2\n"
     ]
    },
    {
     "name": "stderr",
     "output_type": "stream",
     "text": [
      "zeros at the angular ends of error data have been replaced with the adjacent values.\n"
     ]
    },
    {
     "name": "stdout",
     "output_type": "stream",
     "text": [
      "[191] D:\\PyTools\\Data\\20210506\\BSA_sd200S_sub2\n"
     ]
    },
    {
     "name": "stderr",
     "output_type": "stream",
     "text": [
      "c:\\Program Files\\Python312\\Lib\\site-packages\\numpy\\lib\\function_base.py:520: RuntimeWarning: Mean of empty slice.\n",
      "  avg = a.mean(axis, **keepdims_kw)\n",
      "c:\\Program Files\\Python312\\Lib\\site-packages\\numpy\\core\\_methods.py:129: RuntimeWarning: invalid value encountered in scalar divide\n",
      "  ret = ret.dtype.type(ret / rcount)\n"
     ]
    },
    {
     "name": "stdout",
     "output_type": "stream",
     "text": [
      "[192] D:\\PyTools\\Data\\20210506\\Backsub_20210501\n",
      "[193] D:\\PyTools\\Data\\20210506\\Backsub_AR_20210511\n",
      "[194] D:\\PyTools\\Data\\20210512\n",
      "[195] D:\\PyTools\\Data\\20210527\\SiRNA_Backsub_20210501\n",
      "[196] D:\\PyTools\\Data\\20210610\\Buffer\n",
      "No UV data found in D:\\PyTools\\Data\\20210610\\Buffer, skipping.\n",
      "[197] D:\\PyTools\\Data\\20210610\\Sample\n",
      "No UV data found in D:\\PyTools\\Data\\20210610\\Sample, skipping.\n",
      "[198] D:\\PyTools\\Data\\20210628\n",
      "[199] D:\\PyTools\\Data\\20210628_2\n",
      "[200] D:\\PyTools\\Data\\20210727\\data01\n"
     ]
    },
    {
     "name": "stderr",
     "output_type": "stream",
     "text": [
      "zeros at the angular ends of error data have been replaced with the adjacent values.\n"
     ]
    },
    {
     "name": "stdout",
     "output_type": "stream",
     "text": [
      "[201] D:\\PyTools\\Data\\20210727\\data02\n"
     ]
    },
    {
     "name": "stderr",
     "output_type": "stream",
     "text": [
      "zeros at the angular ends of error data have been replaced with the adjacent values.\n"
     ]
    },
    {
     "name": "stdout",
     "output_type": "stream",
     "text": [
      "[202] D:\\PyTools\\Data\\20211021\\Backsub_tests001\n",
      "[203] D:\\PyTools\\Data\\20211105\\Cu_myo10_II\n",
      "No UV data found in D:\\PyTools\\Data\\20211105\\Cu_myo10_II, skipping.\n",
      "[204] D:\\PyTools\\Data\\20211105\\Cu_myo10_II_backsub\n",
      "No UV data found in D:\\PyTools\\Data\\20211105\\Cu_myo10_II_backsub, skipping.\n",
      "[205] D:\\PyTools\\Data\\20211105\\apo_myo10\n",
      "No UV data found in D:\\PyTools\\Data\\20211105\\apo_myo10, skipping.\n",
      "[206] D:\\PyTools\\Data\\20211105\\apo_myo10_backsub\n",
      "No UV data found in D:\\PyTools\\Data\\20211105\\apo_myo10_backsub, skipping.\n",
      "[207] D:\\PyTools\\Data\\20211105\\buffer\n",
      "No UV data found in D:\\PyTools\\Data\\20211105\\buffer, skipping.\n",
      "[208] D:\\PyTools\\Data\\20211209\n",
      "[209] D:\\PyTools\\Data\\20211222\\HypC\n",
      "[210] D:\\PyTools\\Data\\20211222\\PKS\n",
      "[211] D:\\PyTools\\Data\\20211222\\PKS2\n",
      "[212] D:\\PyTools\\Data\\20220210\n",
      "[213] D:\\PyTools\\Data\\20220311\n"
     ]
    },
    {
     "name": "stderr",
     "output_type": "stream",
     "text": [
      "zeros at the angular ends of error data have been replaced with the adjacent values.\n"
     ]
    },
    {
     "name": "stdout",
     "output_type": "stream",
     "text": [
      "[214] D:\\PyTools\\Data\\20220517\n",
      "[215] D:\\PyTools\\Data\\20220628\n",
      "[216] D:\\PyTools\\Data\\20220716\\BSA_201\n"
     ]
    },
    {
     "name": "stderr",
     "output_type": "stream",
     "text": [
      "zeros at the angular ends of error data have been replaced with the adjacent values.\n"
     ]
    },
    {
     "name": "stdout",
     "output_type": "stream",
     "text": [
      "[217] D:\\PyTools\\Data\\20220716\\BSA_202\n"
     ]
    },
    {
     "name": "stderr",
     "output_type": "stream",
     "text": [
      "zeros at the angular ends of error data have been replaced with the adjacent values.\n"
     ]
    },
    {
     "name": "stdout",
     "output_type": "stream",
     "text": [
      "[218] D:\\PyTools\\Data\\20220716\\FER_OA_301\n"
     ]
    },
    {
     "name": "stderr",
     "output_type": "stream",
     "text": [
      "zeros at the angular ends of error data have been replaced with the adjacent values.\n"
     ]
    },
    {
     "name": "stdout",
     "output_type": "stream",
     "text": [
      "[219] D:\\PyTools\\Data\\20220716\\FER_OA_302\n"
     ]
    },
    {
     "name": "stderr",
     "output_type": "stream",
     "text": [
      "zeros at the angular ends of error data have been replaced with the adjacent values.\n"
     ]
    },
    {
     "name": "stdout",
     "output_type": "stream",
     "text": [
      "[220] D:\\PyTools\\Data\\20220716\\OA_ALD_201\n"
     ]
    },
    {
     "name": "stderr",
     "output_type": "stream",
     "text": [
      "zeros at the angular ends of error data have been replaced with the adjacent values.\n"
     ]
    },
    {
     "name": "stdout",
     "output_type": "stream",
     "text": [
      "[221] D:\\PyTools\\Data\\20220716\\OA_ALD_202\n"
     ]
    },
    {
     "name": "stderr",
     "output_type": "stream",
     "text": [
      "zeros at the angular ends of error data have been replaced with the adjacent values.\n"
     ]
    },
    {
     "name": "stdout",
     "output_type": "stream",
     "text": [
      "[222] D:\\PyTools\\Data\\20220716\\lowSN_BSA_01\n"
     ]
    },
    {
     "name": "stderr",
     "output_type": "stream",
     "text": [
      "zeros at the angular ends of error data have been replaced with the adjacent values.\n"
     ]
    },
    {
     "name": "stdout",
     "output_type": "stream",
     "text": [
      "[223] D:\\PyTools\\Data\\20221014\\CytC002_wavelength800\n",
      "[224] D:\\PyTools\\Data\\20221121\\ALD002\n",
      "[225] D:\\PyTools\\Data\\20221121\\ALD003\n",
      "[226] D:\\PyTools\\Data\\20221208\n",
      "[227] D:\\PyTools\\Data\\20221227\n",
      "[228] D:\\PyTools\\Data\\20230303\\HasA\n",
      "[229] D:\\PyTools\\Data\\20230303\\NAC\n",
      "[230] D:\\PyTools\\Data\\20230303\\NACca\n",
      "[231] D:\\PyTools\\Data\\20230304\n"
     ]
    },
    {
     "name": "stderr",
     "output_type": "stream",
     "text": [
      "zeros at the angular ends of error data have been replaced with the adjacent values.\n"
     ]
    },
    {
     "name": "stdout",
     "output_type": "stream",
     "text": [
      "[232] D:\\PyTools\\Data\\20230705\n"
     ]
    },
    {
     "name": "stderr",
     "output_type": "stream",
     "text": [
      "zeros at the angular ends of error data have been replaced with the adjacent values.\n"
     ]
    },
    {
     "name": "stdout",
     "output_type": "stream",
     "text": [
      "[233] D:\\PyTools\\Data\\20230706\\ALD001\n"
     ]
    },
    {
     "name": "stderr",
     "output_type": "stream",
     "text": [
      "zeros at the angular ends of error data have been replaced with the adjacent values.\n"
     ]
    },
    {
     "name": "stdout",
     "output_type": "stream",
     "text": [
      "[234] D:\\PyTools\\Data\\20230706\\ALD002\n"
     ]
    },
    {
     "name": "stderr",
     "output_type": "stream",
     "text": [
      "zeros at the angular ends of error data have been replaced with the adjacent values.\n"
     ]
    },
    {
     "name": "stdout",
     "output_type": "stream",
     "text": [
      "[235] D:\\PyTools\\Data\\20230706\\ALD_OA001\n"
     ]
    },
    {
     "name": "stderr",
     "output_type": "stream",
     "text": [
      "zeros at the angular ends of error data have been replaced with the adjacent values.\n"
     ]
    },
    {
     "name": "stdout",
     "output_type": "stream",
     "text": [
      "[236] D:\\PyTools\\Data\\20230706\\ALD_OA002\n"
     ]
    },
    {
     "name": "stderr",
     "output_type": "stream",
     "text": [
      "zeros at the angular ends of error data have been replaced with the adjacent values.\n"
     ]
    },
    {
     "name": "stdout",
     "output_type": "stream",
     "text": [
      "[237] D:\\PyTools\\Data\\20230706\\BSA001\n"
     ]
    },
    {
     "name": "stderr",
     "output_type": "stream",
     "text": [
      "zeros at the angular ends of error data have been replaced with the adjacent values.\n"
     ]
    },
    {
     "name": "stdout",
     "output_type": "stream",
     "text": [
      "[238] D:\\PyTools\\Data\\20230706\\BSA002\n"
     ]
    },
    {
     "name": "stderr",
     "output_type": "stream",
     "text": [
      "zeros at the angular ends of error data have been replaced with the adjacent values.\n"
     ]
    },
    {
     "name": "stdout",
     "output_type": "stream",
     "text": [
      "[239] D:\\PyTools\\Data\\20230706\\GI001\n"
     ]
    },
    {
     "name": "stderr",
     "output_type": "stream",
     "text": [
      "zeros at the angular ends of error data have been replaced with the adjacent values.\n"
     ]
    },
    {
     "name": "stdout",
     "output_type": "stream",
     "text": [
      "[240] D:\\PyTools\\Data\\20230706\\GI002\n"
     ]
    },
    {
     "name": "stderr",
     "output_type": "stream",
     "text": [
      "zeros at the angular ends of error data have been replaced with the adjacent values.\n"
     ]
    },
    {
     "name": "stdout",
     "output_type": "stream",
     "text": [
      "[241] D:\\PyTools\\Data\\20230706\\OA001\n"
     ]
    },
    {
     "name": "stderr",
     "output_type": "stream",
     "text": [
      "zeros at the angular ends of error data have been replaced with the adjacent values.\n"
     ]
    },
    {
     "name": "stdout",
     "output_type": "stream",
     "text": [
      "[242] D:\\PyTools\\Data\\20230706\\OA002\n"
     ]
    },
    {
     "name": "stderr",
     "output_type": "stream",
     "text": [
      "zeros at the angular ends of error data have been replaced with the adjacent values.\n"
     ]
    },
    {
     "name": "stdout",
     "output_type": "stream",
     "text": [
      "[243] D:\\PyTools\\Data\\20230818\\Backsub3\n",
      "[244] D:\\PyTools\\Data\\20231123\n",
      "[245] D:\\PyTools\\Data\\20231214\\PgpApo\n",
      "[246] D:\\PyTools\\Data\\20231214\\PgpEla\n",
      "[247] D:\\PyTools\\Data\\20231214\\PgpTax\n",
      "[248] D:\\PyTools\\Data\\20240730\n",
      "[249] D:\\PyTools\\Data\\20250212\\REF\n",
      "[250] D:\\PyTools\\Data\\20250212\\SG\n",
      "[251] D:\\PyTools\\Data\\OA_11_cut\n",
      "[252] D:\\PyTools\\Data\\sample_data\n",
      "[253] D:\\PyTools\\Data\\sample_data_no_UV\n",
      "No UV data found in D:\\PyTools\\Data\\sample_data_no_UV, skipping.\n"
     ]
    }
   ],
   "source": [
    "import sys\n",
    "sys.path.insert(0, '../../../molass-library')\n",
    "sys.path.insert(0, '../../../molass-legacy')\n",
    "import os\n",
    "import matplotlib.pyplot as plt\n",
    "from molass.Local import get_local_settings\n",
    "from molass.DataUtils.FolderWalker import walk_folders\n",
    "from molass.Global.Options import set_molass_options\n",
    "set_molass_options(flowchange='auto')\n",
    "local_settings = get_local_settings()\n",
    "DATA_ROOT_FOLDER = local_settings['DATA_ROOT_FOLDER']\n",
    "from molass.DataObjects import SecSaxsData as SSD\n",
    "\n",
    "output_folder = \"figs\"\n",
    "if not os.path.exists(output_folder):\n",
    "    os.makedirs(output_folder)\n",
    "\n",
    "for k, path in enumerate(walk_folders(DATA_ROOT_FOLDER)):\n",
    "    if k < 0:\n",
    "        continue\n",
    "    print([k], path)\n",
    "    ssd = SSD(path, remove_bubbles=True)\n",
    "    if ssd.uv is None:\n",
    "        print(\"No UV data found in %s, skipping.\" % path)\n",
    "        continue\n",
    "    title = \"Compact Plot for %s\" % path\n",
    "    ssd.set_baseline_method('integral')\n",
    "    result = ssd.plot_compact(title=title, baseline=True)\n",
    "    result.savefig(os.path.join(output_folder, \"plot_%03d.png\" % k))\n",
    "    result.close()\n",
    "    if k > 3:\n",
    "        pass\n",
    "        # break"
   ]
  }
 ],
 "metadata": {
  "kernelspec": {
   "display_name": "Python 3",
   "language": "python",
   "name": "python3"
  },
  "language_info": {
   "codemirror_mode": {
    "name": "ipython",
    "version": 3
   },
   "file_extension": ".py",
   "mimetype": "text/x-python",
   "name": "python",
   "nbconvert_exporter": "python",
   "pygments_lexer": "ipython3",
   "version": "3.12.10"
  }
 },
 "nbformat": 4,
 "nbformat_minor": 5
}
