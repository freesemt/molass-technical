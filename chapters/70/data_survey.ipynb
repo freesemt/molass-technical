{
 "cells": [
  {
   "cell_type": "markdown",
   "id": "c38dd2fd",
   "metadata": {},
   "source": [
    "# Data Survey\n",
    "## Folder Walker"
   ]
  },
  {
   "cell_type": "code",
   "execution_count": null,
   "id": "f887b9e3",
   "metadata": {},
   "outputs": [
    {
     "name": "stdout",
     "output_type": "stream",
     "text": [
      "[0] D:\\PyTools\\Data\\20160227\\backsub\n"
     ]
    },
    {
     "name": "stderr",
     "output_type": "stream",
     "text": [
      "zeros at the angular ends of error data have been replaced with the adjacent values.\n"
     ]
    },
    {
     "name": "stdout",
     "output_type": "stream",
     "text": [
      "[1] D:\\PyTools\\Data\\20160628\n",
      "[4] h_ratio= 0.02911284350190842\n"
     ]
    },
    {
     "name": "stderr",
     "output_type": "stream",
     "text": [
      "c:\\Program Files\\Python312\\Lib\\site-packages\\scipy\\stats\\_stats_py.py:10919: RuntimeWarning: invalid value encountered in scalar divide\n",
      "  slope = ssxym / ssxm\n",
      "c:\\Program Files\\Python312\\Lib\\site-packages\\scipy\\stats\\_stats_py.py:10933: RuntimeWarning: invalid value encountered in sqrt\n",
      "  t = r * np.sqrt(df / ((1.0 - r + TINY)*(1.0 + r + TINY)))\n",
      "c:\\Program Files\\Python312\\Lib\\site-packages\\scipy\\stats\\_stats_py.py:10936: RuntimeWarning: invalid value encountered in scalar divide\n",
      "  slope_stderr = np.sqrt((1 - r**2) * ssym / ssxm / df)\n"
     ]
    },
    {
     "name": "stdout",
     "output_type": "stream",
     "text": [
      "[2] D:\\PyTools\\Data\\20161006\\OA01\\Backsub\n"
     ]
    },
    {
     "name": "stderr",
     "output_type": "stream",
     "text": [
      "zeros at the angular ends of error data have been replaced with the adjacent values.\n"
     ]
    },
    {
     "name": "stdout",
     "output_type": "stream",
     "text": [
      "[5] h_ratio= 0.029232230413578555\n",
      "[3] D:\\PyTools\\Data\\20161104\\BL-10C\\Ald\n",
      "[4] D:\\PyTools\\Data\\20161104\\BL-10C\\OA\n"
     ]
    }
   ],
   "source": [
    "import sys\n",
    "sys.path.insert(0, r\"D:\\Github\\molass-legacy\") \n",
    "sys.path.insert(0, r\"D:\\Github\\molass-library\")\n",
    "import os\n",
    "import matplotlib.pyplot as plt\n",
    "from molass.Local import get_local_settings\n",
    "from molass.DataUtils.FolderWalker import walk_folders\n",
    "from molass.Global.Options import set_molass_options\n",
    "set_molass_options(flowchange='auto')\n",
    "local_settings = get_local_settings()\n",
    "DATA_ROOT_FOLDER = local_settings['DATA_ROOT_FOLDER']\n",
    "from molass.DataObjects import SecSaxsData as SSD\n",
    "\n",
    "output_folder = \"figs\"\n",
    "if not os.path.exists(output_folder):\n",
    "    os.makedirs(output_folder)\n",
    "\n",
    "for k, path in enumerate(walk_folders(DATA_ROOT_FOLDER)):\n",
    "    if k < 0:\n",
    "        continue\n",
    "    print([k], path)\n",
    "    ssd = SSD(path, remove_bubbles=True)\n",
    "    if ssd.uv is None:\n",
    "        print(\"No UV data found in %s, skipping.\" % path)\n",
    "        continue\n",
    "    title = \"Compact Plot for %s\" % path\n",
    "    result = ssd.plot_compact(title=title)\n",
    "    result.savefig(os.path.join(output_folder, \"plot_%03d.png\" % k))\n",
    "    result.close()\n",
    "    if k > 3:\n",
    "        break"
   ]
  }
 ],
 "metadata": {
  "kernelspec": {
   "display_name": "Python 3",
   "language": "python",
   "name": "python3"
  },
  "language_info": {
   "codemirror_mode": {
    "name": "ipython",
    "version": 3
   },
   "file_extension": ".py",
   "mimetype": "text/x-python",
   "name": "python",
   "nbconvert_exporter": "python",
   "pygments_lexer": "ipython3",
   "version": "3.12.10"
  }
 },
 "nbformat": 4,
 "nbformat_minor": 5
}
