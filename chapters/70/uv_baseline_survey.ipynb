{
 "cells": [
  {
   "cell_type": "markdown",
   "id": "c38dd2fd",
   "metadata": {},
   "source": [
    "# Data Survey\n",
    "## Folder Walker"
   ]
  },
  {
   "cell_type": "code",
   "execution_count": 1,
   "id": "f887b9e3",
   "metadata": {},
   "outputs": [
    {
     "name": "stdout",
     "output_type": "stream",
     "text": [
      "[0] D:\\PyTools\\Data\\20160227\\backsub\n",
      "[1] D:\\PyTools\\Data\\20160628\n",
      "[2] D:\\PyTools\\Data\\20161006\\OA01\\Backsub\n",
      "[3] D:\\PyTools\\Data\\20161104\\BL-10C\\Ald\n",
      "[4] D:\\PyTools\\Data\\20161104\\BL-10C\\OA\n"
     ]
    }
   ],
   "source": [
    "import sys\n",
    "sys.path.insert(0, '../../../molass-library')\n",
    "sys.path.insert(0, '../../../molass-legacy')\n",
    "import os\n",
    "import matplotlib.pyplot as plt\n",
    "from molass.Local import get_local_settings\n",
    "from molass.DataUtils.FolderWalker import walk_folders\n",
    "from molass.Global.Options import set_molass_options\n",
    "set_molass_options(flowchange='auto')\n",
    "local_settings = get_local_settings()\n",
    "DATA_ROOT_FOLDER = local_settings['DATA_ROOT_FOLDER']\n",
    "from molass.DataObjects import SecSaxsData as SSD\n",
    "from molass.Baseline.UvBaseline import inspect_uv_baseline\n",
    "\n",
    "output_folder = \"figs\"\n",
    "if not os.path.exists(output_folder):\n",
    "    os.makedirs(output_folder)\n",
    "\n",
    "for k, path in enumerate(walk_folders(DATA_ROOT_FOLDER)):\n",
    "    if k < 0:\n",
    "        continue\n",
    "    print([k], path)\n",
    "    ssd = SSD(path, remove_bubbles=True)\n",
    "    if ssd.uv is None:\n",
    "        print(\"No UV data found in %s, skipping.\" % path)\n",
    "        continue\n",
    "    params, result = inspect_uv_baseline(ssd.uv, return_also_plotresult=True, title=path)\n",
    "    result.savefig(os.path.join(output_folder, \"plot_%03d.png\" % k))\n",
    "    result.close()\n",
    "    if k > 3:\n",
    "        break  # Uncomment to stop after processing a few files"
   ]
  }
 ],
 "metadata": {
  "kernelspec": {
   "display_name": "Python 3",
   "language": "python",
   "name": "python3"
  },
  "language_info": {
   "codemirror_mode": {
    "name": "ipython",
    "version": 3
   },
   "file_extension": ".py",
   "mimetype": "text/x-python",
   "name": "python",
   "nbconvert_exporter": "python",
   "pygments_lexer": "ipython3",
   "version": "3.12.10"
  }
 },
 "nbformat": 4,
 "nbformat_minor": 5
}
